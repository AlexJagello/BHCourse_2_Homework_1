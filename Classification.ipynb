{
 "cells": [
  {
   "cell_type": "markdown",
   "metadata": {},
   "source": [
    "Зфдание 1. Используйте набор данных с изображениями рукописных цифр (например, MNIST) и обучите модель классификации (например, метод опорных векторов) для распознавания цифр."
   ]
  },
  {
   "cell_type": "code",
   "execution_count": 26,
   "metadata": {},
   "outputs": [
    {
     "name": "stdout",
     "output_type": "stream",
     "text": [
      "Requirement already satisfied: kagglehub in c:\\users\\sasa\\appdata\\local\\packages\\pythonsoftwarefoundation.python.3.11_qbz5n2kfra8p0\\localcache\\local-packages\\python311\\site-packages (0.3.10)\n",
      "Requirement already satisfied: packaging in c:\\users\\sasa\\appdata\\local\\packages\\pythonsoftwarefoundation.python.3.11_qbz5n2kfra8p0\\localcache\\local-packages\\python311\\site-packages (from kagglehub) (24.2)\n",
      "Requirement already satisfied: pyyaml in c:\\users\\sasa\\appdata\\local\\packages\\pythonsoftwarefoundation.python.3.11_qbz5n2kfra8p0\\localcache\\local-packages\\python311\\site-packages (from kagglehub) (6.0.2)\n",
      "Requirement already satisfied: requests in c:\\users\\sasa\\appdata\\local\\packages\\pythonsoftwarefoundation.python.3.11_qbz5n2kfra8p0\\localcache\\local-packages\\python311\\site-packages (from kagglehub) (2.32.3)\n",
      "Requirement already satisfied: tqdm in c:\\users\\sasa\\appdata\\local\\packages\\pythonsoftwarefoundation.python.3.11_qbz5n2kfra8p0\\localcache\\local-packages\\python311\\site-packages (from kagglehub) (4.67.1)\n",
      "Requirement already satisfied: charset-normalizer<4,>=2 in c:\\users\\sasa\\appdata\\local\\packages\\pythonsoftwarefoundation.python.3.11_qbz5n2kfra8p0\\localcache\\local-packages\\python311\\site-packages (from requests->kagglehub) (3.4.1)\n",
      "Requirement already satisfied: idna<4,>=2.5 in c:\\users\\sasa\\appdata\\local\\packages\\pythonsoftwarefoundation.python.3.11_qbz5n2kfra8p0\\localcache\\local-packages\\python311\\site-packages (from requests->kagglehub) (3.10)\n",
      "Requirement already satisfied: urllib3<3,>=1.21.1 in c:\\users\\sasa\\appdata\\local\\packages\\pythonsoftwarefoundation.python.3.11_qbz5n2kfra8p0\\localcache\\local-packages\\python311\\site-packages (from requests->kagglehub) (2.3.0)\n",
      "Requirement already satisfied: certifi>=2017.4.17 in c:\\users\\sasa\\appdata\\local\\packages\\pythonsoftwarefoundation.python.3.11_qbz5n2kfra8p0\\localcache\\local-packages\\python311\\site-packages (from requests->kagglehub) (2025.1.31)\n",
      "Requirement already satisfied: colorama in c:\\users\\sasa\\appdata\\local\\packages\\pythonsoftwarefoundation.python.3.11_qbz5n2kfra8p0\\localcache\\local-packages\\python311\\site-packages (from tqdm->kagglehub) (0.4.6)\n"
     ]
    },
    {
     "name": "stderr",
     "output_type": "stream",
     "text": [
      "\n",
      "[notice] A new release of pip is available: 24.0 -> 25.0.1\n",
      "[notice] To update, run: C:\\Users\\sasa\\AppData\\Local\\Microsoft\\WindowsApps\\PythonSoftwareFoundation.Python.3.11_qbz5n2kfra8p0\\python.exe -m pip install --upgrade pip\n"
     ]
    },
    {
     "name": "stdout",
     "output_type": "stream",
     "text": [
      "Requirement already satisfied: numpy in c:\\users\\sasa\\appdata\\local\\packages\\pythonsoftwarefoundation.python.3.11_qbz5n2kfra8p0\\localcache\\local-packages\\python311\\site-packages (2.2.3)\n"
     ]
    },
    {
     "name": "stderr",
     "output_type": "stream",
     "text": [
      "\n",
      "[notice] A new release of pip is available: 24.0 -> 25.0.1\n",
      "[notice] To update, run: C:\\Users\\sasa\\AppData\\Local\\Microsoft\\WindowsApps\\PythonSoftwareFoundation.Python.3.11_qbz5n2kfra8p0\\python.exe -m pip install --upgrade pip\n"
     ]
    }
   ],
   "source": [
    "!pip install kagglehub\n",
    "!pip install numpy"
   ]
  },
  {
   "cell_type": "markdown",
   "metadata": {},
   "source": [
    "# Загружаю  датасет"
   ]
  },
  {
   "cell_type": "code",
   "execution_count": 27,
   "metadata": {},
   "outputs": [],
   "source": [
    "import kagglehub\n",
    "import os\n",
    "import struct \n",
    "import numpy as np\n",
    "\n",
    "from array import array\n",
    "\n",
    "path = kagglehub.dataset_download(\"hojjatk/mnist-dataset\")\n",
    "\n",
    "train_image_path = os.path.join(path, 'train-images.idx3-ubyte')  \n",
    "train_label_path = os.path.join(path, 'train-labels.idx1-ubyte')  \n",
    "\n",
    "test_image_path = os.path.join(path, 't10k-images.idx3-ubyte') \n",
    "test_label_path = os.path.join(path, 't10k-labels.idx1-ubyte')  \n",
    "\n",
    "\n",
    "\n",
    "train_image = []\n",
    "train_label = []\n",
    "test_image = []\n",
    "test_label = []\n",
    "\n",
    "def get_images_set(path:str)->array:   \n",
    "    with open(path, 'rb') as fn:\n",
    "        head = struct.unpack(\">IIII\", fn.read(16))\n",
    "        images = np.array(array(\"B\", fn.read())).reshape(head[1], head[2], head[3])\n",
    "        return images\n",
    "    \n",
    "def get_labels_set(path:str)->array:\n",
    "    with open(path, 'rb') as fn:\n",
    "        fn.read(8)\n",
    "        labels = np.array(array(\"B\", fn.read()))\n",
    "        return labels \n",
    "\n",
    "train_image = get_images_set(train_image_path)\n",
    "test_image = get_images_set(test_image_path)\n",
    "train_label = get_labels_set(train_label_path)\n",
    "test_label = get_labels_set(test_label_path)"
   ]
  },
  {
   "cell_type": "code",
   "execution_count": 28,
   "metadata": {},
   "outputs": [
    {
     "name": "stdout",
     "output_type": "stream",
     "text": [
      "Requirement already satisfied: matplotlib in c:\\users\\sasa\\appdata\\local\\packages\\pythonsoftwarefoundation.python.3.11_qbz5n2kfra8p0\\localcache\\local-packages\\python311\\site-packages (3.10.1)\n",
      "Requirement already satisfied: contourpy>=1.0.1 in c:\\users\\sasa\\appdata\\local\\packages\\pythonsoftwarefoundation.python.3.11_qbz5n2kfra8p0\\localcache\\local-packages\\python311\\site-packages (from matplotlib) (1.3.1)\n",
      "Requirement already satisfied: cycler>=0.10 in c:\\users\\sasa\\appdata\\local\\packages\\pythonsoftwarefoundation.python.3.11_qbz5n2kfra8p0\\localcache\\local-packages\\python311\\site-packages (from matplotlib) (0.12.1)\n",
      "Requirement already satisfied: fonttools>=4.22.0 in c:\\users\\sasa\\appdata\\local\\packages\\pythonsoftwarefoundation.python.3.11_qbz5n2kfra8p0\\localcache\\local-packages\\python311\\site-packages (from matplotlib) (4.56.0)\n",
      "Requirement already satisfied: kiwisolver>=1.3.1 in c:\\users\\sasa\\appdata\\local\\packages\\pythonsoftwarefoundation.python.3.11_qbz5n2kfra8p0\\localcache\\local-packages\\python311\\site-packages (from matplotlib) (1.4.8)\n",
      "Requirement already satisfied: numpy>=1.23 in c:\\users\\sasa\\appdata\\local\\packages\\pythonsoftwarefoundation.python.3.11_qbz5n2kfra8p0\\localcache\\local-packages\\python311\\site-packages (from matplotlib) (2.2.3)\n",
      "Requirement already satisfied: packaging>=20.0 in c:\\users\\sasa\\appdata\\local\\packages\\pythonsoftwarefoundation.python.3.11_qbz5n2kfra8p0\\localcache\\local-packages\\python311\\site-packages (from matplotlib) (24.2)\n",
      "Requirement already satisfied: pillow>=8 in c:\\users\\sasa\\appdata\\local\\packages\\pythonsoftwarefoundation.python.3.11_qbz5n2kfra8p0\\localcache\\local-packages\\python311\\site-packages (from matplotlib) (11.1.0)\n",
      "Requirement already satisfied: pyparsing>=2.3.1 in c:\\users\\sasa\\appdata\\local\\packages\\pythonsoftwarefoundation.python.3.11_qbz5n2kfra8p0\\localcache\\local-packages\\python311\\site-packages (from matplotlib) (3.2.1)\n",
      "Requirement already satisfied: python-dateutil>=2.7 in c:\\users\\sasa\\appdata\\local\\packages\\pythonsoftwarefoundation.python.3.11_qbz5n2kfra8p0\\localcache\\local-packages\\python311\\site-packages (from matplotlib) (2.9.0.post0)\n",
      "Requirement already satisfied: six>=1.5 in c:\\users\\sasa\\appdata\\local\\packages\\pythonsoftwarefoundation.python.3.11_qbz5n2kfra8p0\\localcache\\local-packages\\python311\\site-packages (from python-dateutil>=2.7->matplotlib) (1.17.0)\n"
     ]
    },
    {
     "name": "stderr",
     "output_type": "stream",
     "text": [
      "\n",
      "[notice] A new release of pip is available: 24.0 -> 25.0.1\n",
      "[notice] To update, run: C:\\Users\\sasa\\AppData\\Local\\Microsoft\\WindowsApps\\PythonSoftwareFoundation.Python.3.11_qbz5n2kfra8p0\\python.exe -m pip install --upgrade pip\n"
     ]
    }
   ],
   "source": [
    "!pip install matplotlib"
   ]
  },
  {
   "cell_type": "markdown",
   "metadata": {},
   "source": [
    "## Отображение чисел из датасета "
   ]
  },
  {
   "cell_type": "code",
   "execution_count": 29,
   "metadata": {},
   "outputs": [
    {
     "data": {
      "image/png": "[encoded data removed]",
      "text/plain": [
       "<Figure size 640x480 with 10 Axes>"
      ]
     },
     "metadata": {},
     "output_type": "display_data"
    }
   ],
   "source": [
    "import matplotlib.pyplot as plt\n",
    "\n",
    "fig, axs = plt.subplots(2,5)\n",
    "fig.suptitle('Numbers')\n",
    "\n",
    "\n",
    "def show_image(index:int, col:int, row:int):    \n",
    "    axs[col,row].set_title(train_label[index])\n",
    "    axs[col,row].imshow(train_image[index])\n",
    "    \n",
    "\n",
    "def show_image_of_digit(digit:int, col:int, row:int):\n",
    "    first_ind = np.where(train_label==digit)[0][0]\n",
    "    show_image(first_ind, col, row)\n",
    "\n",
    "show_image_of_digit(0,0,0)\n",
    "show_image_of_digit(1,0,1)\n",
    "show_image_of_digit(2,0,2)\n",
    "show_image_of_digit(3,0,3)\n",
    "show_image_of_digit(4,0,4)\n",
    "show_image_of_digit(5,1,0)\n",
    "show_image_of_digit(6,1,1)\n",
    "show_image_of_digit(7,1,2)\n",
    "show_image_of_digit(8,1,3)\n",
    "show_image_of_digit(9,1,4)\n",
    "\n"
   ]
  },
  {
   "cell_type": "code",
   "execution_count": 30,
   "metadata": {},
   "outputs": [],
   "source": [
    "train_image_flatten = [item.flatten() for item in train_image]\n",
    "test_image_flatten = [item.flatten() for item in test_image]\n",
    "\n",
    "X_train , Y_train = train_image_flatten, train_label\n",
    "x_test, y_test = test_image_flatten, test_label "
   ]
  },
  {
   "cell_type": "markdown",
   "metadata": {},
   "source": [
    "## Распределение записей по классам (цифрам)"
   ]
  },
  {
   "cell_type": "code",
   "execution_count": 31,
   "metadata": {},
   "outputs": [
    {
     "data": {
      "image/png": "[encoded data removed]",
      "text/plain": [
       "<Figure size 640x480 with 1 Axes>"
      ]
     },
     "metadata": {},
     "output_type": "display_data"
    }
   ],
   "source": [
    "\n",
    "def SamplesAmount(Y_train):\n",
    "    plt.title(\"Распределение записей по классам (цифрам)\")\n",
    "    counts, bins, patches = plt.hist([Y_train],label=['train'], color='skyblue', edgecolor='black')\n",
    "    plt.bar_label(patches, (0,1,2,3,4,5,6,7,8,9))\n",
    "    plt.legend()\n",
    "    plt.show()\n",
    "\n",
    "SamplesAmount(Y_train)"
   ]
  },
  {
   "cell_type": "code",
   "execution_count": 32,
   "metadata": {},
   "outputs": [
    {
     "data": {
      "image/png": "[encoded data removed]",
      "text/plain": [
       "<Figure size 640x480 with 1 Axes>"
      ]
     },
     "metadata": {},
     "output_type": "display_data"
    }
   ],
   "source": [
    "X_train_origin = X_train.copy()\n",
    "Y_train_origin = Y_train.copy()\n",
    "\n",
    "X_train = X_train[::20] #Беру только каждое 20 число \n",
    "Y_train = Y_train[::20]\n",
    "\n",
    "#Смотрю количество записей каждого класса\n",
    "SamplesAmount(Y_train)"
   ]
  },
  {
   "cell_type": "markdown",
   "metadata": {},
   "source": [
    "## Метод К-ближайших соседей"
   ]
  },
  {
   "cell_type": "code",
   "execution_count": 33,
   "metadata": {},
   "outputs": [
    {
     "name": "stdout",
     "output_type": "stream",
     "text": [
      "Requirement already satisfied: scikit-learn in c:\\users\\sasa\\appdata\\local\\packages\\pythonsoftwarefoundation.python.3.11_qbz5n2kfra8p0\\localcache\\local-packages\\python311\\site-packages (1.6.1)\n",
      "Requirement already satisfied: numpy>=1.19.5 in c:\\users\\sasa\\appdata\\local\\packages\\pythonsoftwarefoundation.python.3.11_qbz5n2kfra8p0\\localcache\\local-packages\\python311\\site-packages (from scikit-learn) (2.2.3)\n",
      "Requirement already satisfied: scipy>=1.6.0 in c:\\users\\sasa\\appdata\\local\\packages\\pythonsoftwarefoundation.python.3.11_qbz5n2kfra8p0\\localcache\\local-packages\\python311\\site-packages (from scikit-learn) (1.15.2)\n",
      "Requirement already satisfied: joblib>=1.2.0 in c:\\users\\sasa\\appdata\\local\\packages\\pythonsoftwarefoundation.python.3.11_qbz5n2kfra8p0\\localcache\\local-packages\\python311\\site-packages (from scikit-learn) (1.4.2)\n",
      "Requirement already satisfied: threadpoolctl>=3.1.0 in c:\\users\\sasa\\appdata\\local\\packages\\pythonsoftwarefoundation.python.3.11_qbz5n2kfra8p0\\localcache\\local-packages\\python311\\site-packages (from scikit-learn) (3.5.0)\n"
     ]
    },
    {
     "name": "stderr",
     "output_type": "stream",
     "text": [
      "\n",
      "[notice] A new release of pip is available: 24.0 -> 25.0.1\n",
      "[notice] To update, run: C:\\Users\\sasa\\AppData\\Local\\Microsoft\\WindowsApps\\PythonSoftwareFoundation.Python.3.11_qbz5n2kfra8p0\\python.exe -m pip install --upgrade pip\n"
     ]
    }
   ],
   "source": [
    "!pip install scikit-learn"
   ]
  },
  {
   "cell_type": "code",
   "execution_count": 34,
   "metadata": {},
   "outputs": [
    {
     "name": "stdout",
     "output_type": "stream",
     "text": [
      "Метрики качества:\n",
      "              precision    recall  f1-score   support\n",
      "\n",
      "           0       0.92      0.98      0.95       980\n",
      "           1       0.89      1.00      0.94      1135\n",
      "           2       0.95      0.89      0.92      1032\n",
      "           3       0.92      0.93      0.92      1010\n",
      "           4       0.88      0.92      0.90       982\n",
      "           5       0.90      0.89      0.89       892\n",
      "           6       0.94      0.96      0.95       958\n",
      "           7       0.90      0.91      0.91      1028\n",
      "           8       0.97      0.82      0.89       974\n",
      "           9       0.90      0.84      0.87      1009\n",
      "\n",
      "    accuracy                           0.92     10000\n",
      "   macro avg       0.92      0.91      0.91     10000\n",
      "weighted avg       0.92      0.92      0.91     10000\n",
      "\n",
      "Матрица ошибок:\n",
      "[[ 960    2    3    0    1    4    8    2    0    0]\n",
      " [   0 1130    4    1    0    0    0    0    0    0]\n",
      " [  28   24  923    9    8    1    1   27    7    4]\n",
      " [   1    7   15  938    1   23    0    6   14    5]\n",
      " [   0   21    0    0  902    0    7    9    1   42]\n",
      " [   9   15    2   32    9  791   23    1    1    9]\n",
      " [  17    7    0    1    7    3  923    0    0    0]\n",
      " [   3   42    7    3   12    0    0  939    1   21]\n",
      " [  13   13   18   30   13   51   14   12  799   11]\n",
      " [  14   11    2   11   68    5    2   48    2  846]]\n",
      "Точность модели: 0.9151\n"
     ]
    }
   ],
   "source": [
    "from sklearn.neighbors import KNeighborsClassifier\n",
    "from sklearn.preprocessing import normalize  \n",
    "from sklearn.metrics import classification_report, confusion_matrix, accuracy_score \n",
    "\n",
    "def KNeib(X_tr,Y_tr,X_ts, Y_ts, n_neib=3, show_output=True):\n",
    "    \n",
    "    clsf = KNeighborsClassifier(n_neib)\n",
    "    clsf.fit(X_tr, Y_tr)\n",
    "    y_pred = clsf.predict(X_ts)\n",
    "\n",
    "    conf_matrix = confusion_matrix(Y_ts, y_pred)\n",
    "\n",
    "    accuracy = accuracy_score(Y_ts, y_pred)\n",
    "\n",
    "    if show_output:\n",
    "        print(\"Метрики качества:\")\n",
    "        print(classification_report(Y_ts, y_pred))\n",
    "\n",
    "        print(\"Матрица ошибок:\")\n",
    "        print(conf_matrix)\n",
    "        \n",
    "        print(f\"Точность модели: {accuracy}\")\n",
    "    return accuracy\n",
    "\n",
    "\n",
    "kNeib_result = KNeib(X_train, Y_train, x_test, y_test)\n"
   ]
  },
  {
   "cell_type": "markdown",
   "metadata": {},
   "source": [
    "## Ищу лучшее n"
   ]
  },
  {
   "cell_type": "code",
   "execution_count": 35,
   "metadata": {},
   "outputs": [],
   "source": [
    "\n",
    "neibs_amount = (1,2,3,5,7,10,20, 40, 50, 100)\n",
    "accur = []\n",
    "\n",
    "for i in neibs_amount:\n",
    "    accur.append(KNeib(X_train, Y_train, x_test, y_test, i, False))\n",
    "\n"
   ]
  },
  {
   "cell_type": "code",
   "execution_count": 36,
   "metadata": {},
   "outputs": [
    {
     "data": {
      "image/png": "[encoded data removed]",
      "text/plain": [
       "<Figure size 640x480 with 1 Axes>"
      ]
     },
     "metadata": {},
     "output_type": "display_data"
    }
   ],
   "source": [
    "plt.plot(neibs_amount,accur)\n",
    "plt.ylabel(\"точность модели\")\n",
    "plt.xlabel(\"количество ближайших соседей\")\n",
    "plt.xticks(neibs_amount)\n",
    "plt.show()"
   ]
  },
  {
   "cell_type": "markdown",
   "metadata": {},
   "source": [
    "## L1-регуляризация + K-ближайших соседей"
   ]
  },
  {
   "cell_type": "code",
   "execution_count": 37,
   "metadata": {},
   "outputs": [
    {
     "name": "stdout",
     "output_type": "stream",
     "text": [
      "Метрики качества:\n",
      "              precision    recall  f1-score   support\n",
      "\n",
      "           0       0.86      0.99      0.92       980\n",
      "           1       0.96      0.98      0.97      1135\n",
      "           2       0.94      0.91      0.93      1032\n",
      "           3       0.92      0.90      0.91      1010\n",
      "           4       0.91      0.89      0.90       982\n",
      "           5       0.96      0.83      0.89       892\n",
      "           6       0.93      0.96      0.95       958\n",
      "           7       0.94      0.89      0.92      1028\n",
      "           8       0.87      0.93      0.90       974\n",
      "           9       0.87      0.85      0.86      1009\n",
      "\n",
      "    accuracy                           0.91     10000\n",
      "   macro avg       0.92      0.91      0.91     10000\n",
      "weighted avg       0.92      0.91      0.91     10000\n",
      "\n",
      "Матрица ошибок:\n",
      "[[ 971    0    2    0    0    0    4    0    2    1]\n",
      " [   0 1111    9    1    0    0    6    0    8    0]\n",
      " [  26    0  940    8   10    0    4   16   25    3]\n",
      " [  13    2   14  909    1   15    1    7   42    6]\n",
      " [  11    6    1    0  870    2   15    4   11   62]\n",
      " [  31    4    4   48    3  742   27    1   26    6]\n",
      " [  30    2    0    0    2    3  920    0    1    0]\n",
      " [   9   14   20    3   11    0    0  916    6   49]\n",
      " [  14    5    6   16    1    8    7    5  907    5]\n",
      " [  30    9    1    7   60    5    1   21   19  856]]\n",
      "Точность модели: 0.9142\n"
     ]
    }
   ],
   "source": [
    "X_train_regul = normalize(X_train, norm='l1')\n",
    "X_test_regul = normalize(x_test, norm='l1')\n",
    "\n",
    "l1_result = KNeib(X_train_regul, Y_train, X_test_regul, y_test)"
   ]
  },
  {
   "cell_type": "markdown",
   "metadata": {},
   "source": [
    "## L2-регуляризация + K-ближайших соседей"
   ]
  },
  {
   "cell_type": "code",
   "execution_count": 38,
   "metadata": {},
   "outputs": [
    {
     "name": "stdout",
     "output_type": "stream",
     "text": [
      "Метрики качества:\n",
      "              precision    recall  f1-score   support\n",
      "\n",
      "           0       0.91      0.99      0.95       980\n",
      "           1       0.94      0.99      0.96      1135\n",
      "           2       0.95      0.93      0.94      1032\n",
      "           3       0.93      0.93      0.93      1010\n",
      "           4       0.92      0.92      0.92       982\n",
      "           5       0.95      0.88      0.92       892\n",
      "           6       0.94      0.97      0.96       958\n",
      "           7       0.93      0.92      0.92      1028\n",
      "           8       0.94      0.90      0.92       974\n",
      "           9       0.90      0.87      0.88      1009\n",
      "\n",
      "    accuracy                           0.93     10000\n",
      "   macro avg       0.93      0.93      0.93     10000\n",
      "weighted avg       0.93      0.93      0.93     10000\n",
      "\n",
      "Матрица ошибок:\n",
      "[[ 968    2    3    0    0    0    6    1    0    0]\n",
      " [   0 1122    8    1    0    0    2    0    2    0]\n",
      " [  22    4  955    7    8    0    2   20   13    1]\n",
      " [   5    1   10  937    0   15    1    7   28    6]\n",
      " [   5   14    1    0  900    0   10    3    2   47]\n",
      " [  14    6    3   35    7  784   28    1    7    7]\n",
      " [  18    3    1    0    1    3  932    0    0    0]\n",
      " [   3   29   14    0    7    0    0  941    2   32]\n",
      " [   8    6   11   22    6   15   10   10  877    9]\n",
      " [  20   11    1    9   52    4    1   30    3  878]]\n",
      "Точность модели: 0.9294\n"
     ]
    }
   ],
   "source": [
    "X_train_regul = normalize(X_train, norm='l2')\n",
    "X_test_regul = normalize(x_test, norm='l2')\n",
    "\n",
    "l2_result = KNeib(X_train_regul, Y_train, X_test_regul, y_test)"
   ]
  },
  {
   "cell_type": "markdown",
   "metadata": {},
   "source": [
    "## Избавляюсь от дизбаланса классов. Удаляю данные из оверсемплированых данных + К-ближайших соседей"
   ]
  },
  {
   "cell_type": "code",
   "execution_count": 39,
   "metadata": {},
   "outputs": [
    {
     "name": "stdout",
     "output_type": "stream",
     "text": [
      "Requirement already satisfied: imblearn in c:\\users\\sasa\\appdata\\local\\packages\\pythonsoftwarefoundation.python.3.11_qbz5n2kfra8p0\\localcache\\local-packages\\python311\\site-packages (0.0)\n",
      "Requirement already satisfied: imbalanced-learn in c:\\users\\sasa\\appdata\\local\\packages\\pythonsoftwarefoundation.python.3.11_qbz5n2kfra8p0\\localcache\\local-packages\\python311\\site-packages (from imblearn) (0.13.0)\n",
      "Requirement already satisfied: numpy<3,>=1.24.3 in c:\\users\\sasa\\appdata\\local\\packages\\pythonsoftwarefoundation.python.3.11_qbz5n2kfra8p0\\localcache\\local-packages\\python311\\site-packages (from imbalanced-learn->imblearn) (2.2.3)\n",
      "Requirement already satisfied: scipy<2,>=1.10.1 in c:\\users\\sasa\\appdata\\local\\packages\\pythonsoftwarefoundation.python.3.11_qbz5n2kfra8p0\\localcache\\local-packages\\python311\\site-packages (from imbalanced-learn->imblearn) (1.15.2)\n",
      "Requirement already satisfied: scikit-learn<2,>=1.3.2 in c:\\users\\sasa\\appdata\\local\\packages\\pythonsoftwarefoundation.python.3.11_qbz5n2kfra8p0\\localcache\\local-packages\\python311\\site-packages (from imbalanced-learn->imblearn) (1.6.1)\n",
      "Requirement already satisfied: sklearn-compat<1,>=0.1 in c:\\users\\sasa\\appdata\\local\\packages\\pythonsoftwarefoundation.python.3.11_qbz5n2kfra8p0\\localcache\\local-packages\\python311\\site-packages (from imbalanced-learn->imblearn) (0.1.3)\n",
      "Requirement already satisfied: joblib<2,>=1.1.1 in c:\\users\\sasa\\appdata\\local\\packages\\pythonsoftwarefoundation.python.3.11_qbz5n2kfra8p0\\localcache\\local-packages\\python311\\site-packages (from imbalanced-learn->imblearn) (1.4.2)\n",
      "Requirement already satisfied: threadpoolctl<4,>=2.0.0 in c:\\users\\sasa\\appdata\\local\\packages\\pythonsoftwarefoundation.python.3.11_qbz5n2kfra8p0\\localcache\\local-packages\\python311\\site-packages (from imbalanced-learn->imblearn) (3.5.0)\n"
     ]
    },
    {
     "name": "stderr",
     "output_type": "stream",
     "text": [
      "\n",
      "[notice] A new release of pip is available: 24.0 -> 25.0.1\n",
      "[notice] To update, run: C:\\Users\\sasa\\AppData\\Local\\Microsoft\\WindowsApps\\PythonSoftwareFoundation.Python.3.11_qbz5n2kfra8p0\\python.exe -m pip install --upgrade pip\n"
     ]
    }
   ],
   "source": [
    "!pip install imblearn"
   ]
  },
  {
   "cell_type": "code",
   "execution_count": 40,
   "metadata": {},
   "outputs": [
    {
     "name": "stdout",
     "output_type": "stream",
     "text": [
      "Метрики качества:\n",
      "              precision    recall  f1-score   support\n",
      "\n",
      "           0       0.91      0.99      0.95       980\n",
      "           1       0.94      0.99      0.96      1135\n",
      "           2       0.95      0.93      0.94      1032\n",
      "           3       0.93      0.92      0.93      1010\n",
      "           4       0.91      0.91      0.91       982\n",
      "           5       0.95      0.88      0.91       892\n",
      "           6       0.93      0.97      0.95       958\n",
      "           7       0.94      0.91      0.92      1028\n",
      "           8       0.93      0.91      0.92       974\n",
      "           9       0.89      0.88      0.88      1009\n",
      "\n",
      "    accuracy                           0.93     10000\n",
      "   macro avg       0.93      0.93      0.93     10000\n",
      "weighted avg       0.93      0.93      0.93     10000\n",
      "\n",
      "Матрица ошибок:\n",
      "[[ 968    1    3    0    0    0    6    1    1    0]\n",
      " [   0 1120    8    1    1    0    2    0    2    1]\n",
      " [  21    4  957    6    8    0    3   18   14    1]\n",
      " [   6    1   12  926    0   18    1    7   32    7]\n",
      " [   5   14    1    0  895    0   10    3    2   52]\n",
      " [  14    5    2   31    7  786   32    1    7    7]\n",
      " [  18    3    1    0    2    3  930    0    1    0]\n",
      " [   3   28   11    1    8    0    0  938    2   37]\n",
      " [   8    6    7   18    6   15   12   10  883    9]\n",
      " [  20   10    2    8   52    5    1   24    3  884]]\n",
      "Точность модели: 0.9287\n"
     ]
    }
   ],
   "source": [
    "from imblearn.under_sampling import RandomUnderSampler\n",
    "\n",
    "undersample = RandomUnderSampler(random_state=42)\n",
    "\n",
    "X_over, y_over = undersample.fit_resample(X_train_regul, Y_train)\n",
    "\n",
    "\n",
    "undersample_l2_result = KNeib(X_over, y_over, X_test_regul, y_test)"
   ]
  },
  {
   "cell_type": "markdown",
   "metadata": {},
   "source": [
    "## Метод понижения размерности  -- РСА  +  К-ближайших соседей"
   ]
  },
  {
   "cell_type": "code",
   "execution_count": 41,
   "metadata": {},
   "outputs": [
    {
     "name": "stdout",
     "output_type": "stream",
     "text": [
      "Метрики качества:\n",
      "              precision    recall  f1-score   support\n",
      "\n",
      "           0       0.48      0.74      0.58       980\n",
      "           1       0.81      0.94      0.87      1135\n",
      "           2       0.21      0.31      0.25      1032\n",
      "           3       0.36      0.45      0.40      1010\n",
      "           4       0.35      0.44      0.39       982\n",
      "           5       0.18      0.14      0.16       892\n",
      "           6       0.31      0.18      0.23       958\n",
      "           7       0.44      0.44      0.44      1028\n",
      "           8       0.25      0.10      0.14       974\n",
      "           9       0.33      0.17      0.23      1009\n",
      "\n",
      "    accuracy                           0.40     10000\n",
      "   macro avg       0.37      0.39      0.37     10000\n",
      "weighted avg       0.38      0.40      0.38     10000\n",
      "\n",
      "Матрица ошибок:\n",
      "[[ 721    1   62   10    5   99   54    0   25    3]\n",
      " [   0 1062   21   21    5   10    4    4    4    4]\n",
      " [ 176   53  320  243   17   89   62    6   60    6]\n",
      " [  54   35  274  452   13   73   27   11   66    5]\n",
      " [  11   16   62   18  433   25   36  211    6  164]\n",
      " [ 132   34  205  177   47  124   73   17   76    7]\n",
      " [ 254   15  195   75   49  113  175    7   53   22]\n",
      " [   5   38   50   33  251   26   30  454    5  136]\n",
      " [ 129   37  290  195   38   93   79   10   97    6]\n",
      " [  23   18   46   17  373   23   30  302    1  176]]\n",
      "Точность модели: 0.4014\n"
     ]
    }
   ],
   "source": [
    "from sklearn.decomposition import PCA\n",
    "\n",
    "\n",
    "pca = PCA(n_components=2, random_state=42)\n",
    "X_train_pca = pca.fit_transform(X_train)\n",
    "x_test_pca = pca.fit_transform(x_test)\n",
    "\n",
    "pca_result = KNeib(X_train_pca, Y_train, x_test_pca, y_test)"
   ]
  },
  {
   "cell_type": "markdown",
   "metadata": {},
   "source": [
    "## Метод понижения размерности  -- TSNE  +  К-ближайших соседей"
   ]
  },
  {
   "cell_type": "code",
   "execution_count": 42,
   "metadata": {},
   "outputs": [
    {
     "name": "stdout",
     "output_type": "stream",
     "text": [
      "Метрики качества:\n",
      "              precision    recall  f1-score   support\n",
      "\n",
      "           0       0.89      0.77      0.83       980\n",
      "           1       0.77      0.71      0.74      1135\n",
      "           2       0.55      0.86      0.67      1032\n",
      "           3       0.73      0.83      0.78      1010\n",
      "           4       0.63      0.55      0.58       982\n",
      "           5       0.70      0.60      0.65       892\n",
      "           6       0.81      0.97      0.88       958\n",
      "           7       0.56      0.66      0.61      1028\n",
      "           8       0.80      0.57      0.67       974\n",
      "           9       0.42      0.29      0.34      1009\n",
      "\n",
      "    accuracy                           0.68     10000\n",
      "   macro avg       0.69      0.68      0.67     10000\n",
      "weighted avg       0.69      0.68      0.67     10000\n",
      "\n",
      "Матрица ошибок:\n",
      "[[758   1 191   0   0   3   6   0  15   6]\n",
      " [  0 811 240   2   0   0   1  74   7   0]\n",
      " [  9  75 884   7   5   3   2  17  29   1]\n",
      " [  1   4  71 841   0  69   2  13   5   4]\n",
      " [  0   6  29  10 538   5  13  50   1 330]\n",
      " [ 53   0  35  37   6 534 187   1  33   6]\n",
      " [ 23   2   2   0   0   0 925   0   1   5]\n",
      " [  0 112 106  37  13   1   0 676  37  46]\n",
      " [  7  26  40 215  11 106   4   9 553   3]\n",
      " [  3  12   6   8 286  39   1 357   7 290]]\n",
      "Точность модели: 0.681\n"
     ]
    }
   ],
   "source": [
    "from sklearn.manifold import TSNE\n",
    "import numpy as np\n",
    "\n",
    "\n",
    "tsne = TSNE(n_components=2, random_state=42, perplexity=10)\n",
    "X_train_tsne = tsne.fit_transform(np.array(X_train))\n",
    "X_test_tsne = tsne.fit_transform(np.array(x_test))\n",
    "\n",
    "tsne_result = KNeib(X_train_tsne, Y_train, X_test_tsne, y_test)"
   ]
  },
  {
   "cell_type": "markdown",
   "metadata": {},
   "source": [
    "## Random forest classifier + L2 regularization + under sampling"
   ]
  },
  {
   "cell_type": "code",
   "execution_count": 43,
   "metadata": {},
   "outputs": [
    {
     "name": "stdout",
     "output_type": "stream",
     "text": [
      "              precision    recall  f1-score   support\n",
      "\n",
      "           0       0.94      0.97      0.96       980\n",
      "           1       0.97      0.94      0.95      1135\n",
      "           2       0.90      0.92      0.91      1032\n",
      "           3       0.96      0.89      0.92      1010\n",
      "           4       0.91      0.93      0.92       982\n",
      "           5       0.94      0.90      0.92       892\n",
      "           6       0.92      0.97      0.94       958\n",
      "           7       0.94      0.89      0.92      1028\n",
      "           8       0.85      0.93      0.89       974\n",
      "           9       0.90      0.88      0.89      1009\n",
      "\n",
      "    accuracy                           0.92     10000\n",
      "   macro avg       0.92      0.92      0.92     10000\n",
      "weighted avg       0.92      0.92      0.92     10000\n",
      "\n",
      "[[ 954    0    2    0    3    4   10    1    4    2]\n",
      " [   0 1067   30    2    1    0    7    0   27    1]\n",
      " [  17    2  945    3   18    2    6   20   17    2]\n",
      " [   4    1   29  897    0   24    3   14   34    4]\n",
      " [   1    4    1    0  916    0   13    1    9   37]\n",
      " [   8    5    7   12    8  802   27    1   18    4]\n",
      " [  16    4    1    0    7    3  926    0    1    0]\n",
      " [   1   11   30    3    7    0    0  918   12   46]\n",
      " [   4    0    9    9    6   13   15    7  905    6]\n",
      " [  10    7    1    8   45    6    1   10   36  885]]\n",
      "Точность модели: 0.9215\n"
     ]
    }
   ],
   "source": [
    "from sklearn.ensemble import RandomForestClassifier\n",
    "from sklearn.metrics import classification_report, confusion_matrix, accuracy_score \n",
    "\n",
    "def RandForest(X, Y, x_test, y_test):\n",
    "        clsf =  RandomForestClassifier(\n",
    "                max_depth=50, n_estimators=400, max_features=10, random_state=42)\n",
    "\n",
    "        clsf.fit(X, Y)\n",
    "\n",
    "        y_pred = clsf.predict(x_test)\n",
    "\n",
    "        print(classification_report(y_test, y_pred))\n",
    "\n",
    "        print(confusion_matrix(y_test, y_pred))\n",
    "\n",
    "        accuracy = accuracy_score(y_test, y_pred)\n",
    "\n",
    "        print(f\"Точность модели: {accuracy}\")\n",
    "\n",
    "        return accuracy\n",
    "\n",
    "rfc_result = RandForest(X_over, y_over, X_test_regul, y_test)\n",
    "\n"
   ]
  },
  {
   "cell_type": "markdown",
   "metadata": {},
   "source": [
    "## Gradient Boosting Classifier + L2 regularization + under sampling"
   ]
  },
  {
   "cell_type": "code",
   "execution_count": 44,
   "metadata": {},
   "outputs": [
    {
     "name": "stdout",
     "output_type": "stream",
     "text": [
      "              precision    recall  f1-score   support\n",
      "\n",
      "           0       0.93      0.96      0.94       980\n",
      "           1       0.93      0.86      0.90      1135\n",
      "           2       0.82      0.84      0.83      1032\n",
      "           3       0.92      0.84      0.88      1010\n",
      "           4       0.87      0.90      0.88       982\n",
      "           5       0.87      0.85      0.86       892\n",
      "           6       0.89      0.93      0.91       958\n",
      "           7       0.86      0.84      0.85      1028\n",
      "           8       0.80      0.90      0.85       974\n",
      "           9       0.83      0.81      0.82      1009\n",
      "\n",
      "    accuracy                           0.87     10000\n",
      "   macro avg       0.87      0.87      0.87     10000\n",
      "weighted avg       0.87      0.87      0.87     10000\n",
      "\n",
      "[[936   2   1   4   4   7  13   2  11   0]\n",
      " [  1 981 102   5   4   2   6   2  32   0]\n",
      " [ 28   4 870  17  24   3  30  21  29   6]\n",
      " [ 10  10  30 845   1  30   6  23  47   8]\n",
      " [  1  11   5   3 879   1  11   0  22  49]\n",
      " [  9   8   4  17  17 755  22   6  41  13]\n",
      " [  9   6   6   3  15  20 890   0   9   0]\n",
      " [  1  16  33  11  16   4   0 867   5  75]\n",
      " [  2   7   9   9   9  23  23   8 873  11]\n",
      " [  5   8   2   7  47  23   0  80  20 817]]\n",
      "Точность модели: 0.8713\n"
     ]
    }
   ],
   "source": [
    "from sklearn.ensemble import GradientBoostingClassifier\n",
    "\n",
    "clsf = GradientBoostingClassifier()\n",
    "\n",
    "clsf.fit(X_over, y_over)\n",
    "\n",
    "y_pred = clsf.predict(X_test_regul)\n",
    "\n",
    "print(classification_report(y_test, y_pred))\n",
    "\n",
    "print(confusion_matrix(y_test, y_pred))\n",
    "\n",
    "accuracy = accuracy_score(y_test, y_pred)\n",
    "\n",
    "clsf_result = accuracy\n",
    "print(f\"Точность модели: {accuracy}\")"
   ]
  },
  {
   "cell_type": "markdown",
   "metadata": {},
   "source": [
    "## KNN с лучшими параметрами андерсемплированием и нормализацией l2"
   ]
  },
  {
   "cell_type": "code",
   "execution_count": 48,
   "metadata": {},
   "outputs": [
    {
     "name": "stdout",
     "output_type": "stream",
     "text": [
      "Метрики качества:\n",
      "              precision    recall  f1-score   support\n",
      "\n",
      "           0       0.96      1.00      0.98       980\n",
      "           1       0.97      1.00      0.98      1135\n",
      "           2       0.98      0.97      0.98      1032\n",
      "           3       0.98      0.96      0.97      1010\n",
      "           4       0.98      0.96      0.97       982\n",
      "           5       0.97      0.97      0.97       892\n",
      "           6       0.98      0.99      0.98       958\n",
      "           7       0.98      0.96      0.97      1028\n",
      "           8       0.98      0.96      0.97       974\n",
      "           9       0.95      0.96      0.95      1009\n",
      "\n",
      "    accuracy                           0.97     10000\n",
      "   macro avg       0.97      0.97      0.97     10000\n",
      "weighted avg       0.97      0.97      0.97     10000\n",
      "\n",
      "Матрица ошибок:\n",
      "[[ 976    1    0    0    0    0    2    1    0    0]\n",
      " [   0 1131    3    0    0    0    1    0    0    0]\n",
      " [   9    2 1005    1    1    0    1    8    5    0]\n",
      " [   2    1    4  969    1   14    0    4   10    5]\n",
      " [   2    2    0    0  944    0    6    1    1   26]\n",
      " [   7    1    1    6    1  864    5    1    2    4]\n",
      " [   4    3    0    0    2    3  946    0    0    0]\n",
      " [   2   13    6    0    1    0    0  991    0   15]\n",
      " [   6    2    3   11    3    3    4    3  935    4]\n",
      " [  11    7    2    4    6    3    1    4    3  968]]\n",
      "Точность модели: 0.9729\n"
     ]
    }
   ],
   "source": [
    "undersample = RandomUnderSampler(random_state=42)\n",
    "\n",
    "X_origin_over, y_origin_over = undersample.fit_resample(X_train_origin, Y_train_origin)\n",
    "\n",
    "X_train_origin_regul = normalize(X_origin_over, norm='l2')\n",
    "X_test_regul = normalize(x_test, norm='l2')\n",
    "\n",
    "best_result = KNeib(X_train_origin_regul, y_origin_over, X_test_regul, y_test, 3)"
   ]
  },
  {
   "cell_type": "markdown",
   "metadata": {},
   "source": [
    "## Random Forest с лучшими параметрами андерсемплированием и нормализацией l2"
   ]
  },
  {
   "cell_type": "code",
   "execution_count": 49,
   "metadata": {},
   "outputs": [
    {
     "name": "stdout",
     "output_type": "stream",
     "text": [
      "              precision    recall  f1-score   support\n",
      "\n",
      "           0       0.97      0.99      0.98       980\n",
      "           1       0.99      0.98      0.99      1135\n",
      "           2       0.95      0.97      0.96      1032\n",
      "           3       0.95      0.96      0.96      1010\n",
      "           4       0.98      0.97      0.97       982\n",
      "           5       0.98      0.97      0.97       892\n",
      "           6       0.97      0.98      0.97       958\n",
      "           7       0.98      0.95      0.96      1028\n",
      "           8       0.95      0.95      0.95       974\n",
      "           9       0.95      0.95      0.95      1009\n",
      "\n",
      "    accuracy                           0.97     10000\n",
      "   macro avg       0.97      0.97      0.97     10000\n",
      "weighted avg       0.97      0.97      0.97     10000\n",
      "\n",
      "[[ 968    0    1    0    0    1    6    1    3    0]\n",
      " [   0 1117    4    2    0    1    4    0    6    1]\n",
      " [   7    0  996    6    2    0    3    7   10    1]\n",
      " [   0    0   11  967    0    8    0    8   12    4]\n",
      " [   1    0    3    0  952    0    6    1    2   17]\n",
      " [   4    0    1    9    3  862    7    1    4    1]\n",
      " [   6    3    0    0    4    5  937    0    3    0]\n",
      " [   1    5   20    0    1    0    0  981    4   16]\n",
      " [   3    0    5   16    4    5    2    5  927    7]\n",
      " [   6    6    2   14   10    1    1    2    7  960]]\n",
      "Точность модели: 0.9667\n"
     ]
    }
   ],
   "source": [
    "best_RFC_result = RandForest(X_train_origin_regul, y_origin_over, X_test_regul, y_test)"
   ]
  },
  {
   "cell_type": "markdown",
   "metadata": {},
   "source": [
    "# Сравнение точности моделей"
   ]
  },
  {
   "cell_type": "code",
   "execution_count": 50,
   "metadata": {},
   "outputs": [
    {
     "data": {
      "image/png": "[encoded data removed]",
      "text/plain": [
       "<Figure size 640x480 with 1 Axes>"
      ]
     },
     "metadata": {},
     "output_type": "display_data"
    }
   ],
   "source": [
    "alg = (\"KNN\", \"L1\", \"L2\", \"Us+L2\", \"PCA\", \"TSNE\", \"RFC\", \"CLSF\", \"all data\", \"all RFC\")\n",
    "results = (kNeib_result, l1_result, l2_result, undersample_l2_result, pca_result, tsne_result, rfc_result, clsf_result, best_result, best_RFC_result)\n",
    "\n",
    "\n",
    "plt.bar(alg, results)\n",
    "plt.ylabel(\"точность модели\")\n",
    "plt.xlabel(\"модель\")\n",
    "plt.xticks(alg)\n",
    "plt.yticks((min(results), 0.5, 0.6, 0.7, 0.8, 0.85, 0.875,0.9, 0.92,0.94,0.96, 0.98))\n",
    "plt.ylim(min(results), 1.0)\n",
    "plt.show()"
   ]
  },
  {
   "cell_type": "code",
   "execution_count": null,
   "metadata": {},
   "outputs": [],
   "source": []
  }
 ],
 "metadata": {
  "kernelspec": {
   "display_name": "Python 3",
   "language": "python",
   "name": "python3"
  },
  "language_info": {
   "codemirror_mode": {
    "name": "ipython",
    "version": 3
   },
   "file_extension": ".py",
   "mimetype": "text/x-python",
   "name": "python",
   "nbconvert_exporter": "python",
   "pygments_lexer": "ipython3",
   "version": "3.11.9"
  }
 },
 "nbformat": 4,
 "nbformat_minor": 2
}
