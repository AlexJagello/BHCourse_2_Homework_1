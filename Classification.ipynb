{
 "cells": [
  {
   "cell_type": "markdown",
   "metadata": {},
   "source": [
    "Зфдание 1. Используйте набор данных с изображениями рукописных цифр (например, MNIST) и обучите модель классификации (например, метод опорных векторов) для распознавания цифр."
   ]
  },
  {
   "cell_type": "code",
   "execution_count": 2,
   "metadata": {},
   "outputs": [
    {
     "name": "stdout",
     "output_type": "stream",
     "text": [
      "Requirement already satisfied: kagglehub in c:\\users\\alwx\\desktop\\pythonprojects\\homework_2_1\\.venv\\lib\\site-packages (0.3.10)\n",
      "Requirement already satisfied: packaging in c:\\users\\alwx\\desktop\\pythonprojects\\homework_2_1\\.venv\\lib\\site-packages (from kagglehub) (24.2)\n",
      "Requirement already satisfied: pyyaml in c:\\users\\alwx\\desktop\\pythonprojects\\homework_2_1\\.venv\\lib\\site-packages (from kagglehub) (6.0.2)\n",
      "Requirement already satisfied: requests in c:\\users\\alwx\\desktop\\pythonprojects\\homework_2_1\\.venv\\lib\\site-packages (from kagglehub) (2.32.3)\n",
      "Requirement already satisfied: tqdm in c:\\users\\alwx\\desktop\\pythonprojects\\homework_2_1\\.venv\\lib\\site-packages (from kagglehub) (4.67.1)\n",
      "Requirement already satisfied: charset-normalizer<4,>=2 in c:\\users\\alwx\\desktop\\pythonprojects\\homework_2_1\\.venv\\lib\\site-packages (from requests->kagglehub) (3.4.1)\n",
      "Requirement already satisfied: idna<4,>=2.5 in c:\\users\\alwx\\desktop\\pythonprojects\\homework_2_1\\.venv\\lib\\site-packages (from requests->kagglehub) (3.10)\n",
      "Requirement already satisfied: urllib3<3,>=1.21.1 in c:\\users\\alwx\\desktop\\pythonprojects\\homework_2_1\\.venv\\lib\\site-packages (from requests->kagglehub) (2.3.0)\n",
      "Requirement already satisfied: certifi>=2017.4.17 in c:\\users\\alwx\\desktop\\pythonprojects\\homework_2_1\\.venv\\lib\\site-packages (from requests->kagglehub) (2025.1.31)\n",
      "Requirement already satisfied: colorama in c:\\users\\alwx\\desktop\\pythonprojects\\homework_2_1\\.venv\\lib\\site-packages (from tqdm->kagglehub) (0.4.6)\n",
      "Requirement already satisfied: numpy in c:\\users\\alwx\\desktop\\pythonprojects\\homework_2_1\\.venv\\lib\\site-packages (1.26.4)\n"
     ]
    }
   ],
   "source": [
    "!pip install kagglehub\n",
    "!pip install numpy"
   ]
  },
  {
   "cell_type": "markdown",
   "metadata": {},
   "source": [
    "# Загружаю  датасет"
   ]
  },
  {
   "cell_type": "code",
   "execution_count": null,
   "metadata": {},
   "outputs": [
    {
     "name": "stderr",
     "output_type": "stream",
     "text": [
      "c:\\Users\\Alwx\\Desktop\\PythonProjects\\Homework_2_1\\.venv\\lib\\site-packages\\tqdm\\auto.py:21: TqdmWarning: IProgress not found. Please update jupyter and ipywidgets. See https://ipywidgets.readthedocs.io/en/stable/user_install.html\n",
      "  from .autonotebook import tqdm as notebook_tqdm\n"
     ]
    }
   ],
   "source": [
    "import kagglehub\n",
    "import os\n",
    "import struct \n",
    "import numpy as np\n",
    "\n",
    "from array import array\n",
    "\n",
    "path = kagglehub.dataset_download(\"hojjatk/mnist-dataset\")\n",
    "\n",
    "train_image_path = os.path.join(path, 'train-images.idx3-ubyte')  \n",
    "train_label_path = os.path.join(path, 'train-labels.idx1-ubyte')  \n",
    "\n",
    "test_image_path = os.path.join(path, 't10k-images.idx3-ubyte') \n",
    "test_label_path = os.path.join(path, 't10k-labels.idx1-ubyte')  \n",
    "\n",
    "\n",
    "\n",
    "train_image = []\n",
    "train_label = []\n",
    "test_image = []\n",
    "test_label = []\n",
    "\n",
    "def get_images_set(path:str)->array:   \n",
    "    with open(path, 'rb') as fn:\n",
    "        head = struct.unpack(\">IIII\", fn.read(16))\n",
    "        images = np.array(array(\"B\", fn.read())).reshape(head[1], head[2], head[3])\n",
    "        return images\n",
    "    \n",
    "def get_labels_set(path:str)->array:\n",
    "    with open(path, 'rb') as fn:\n",
    "        fn.read(8)\n",
    "        labels = np.array(array(\"B\", fn.read()))\n",
    "        return labels \n",
    "\n",
    "train_image = get_images_set(train_image_path)\n",
    "test_image = get_images_set(test_image_path)\n",
    "train_label = get_labels_set(train_label_path)\n",
    "test_label = get_labels_set(test_label_path)"
   ]
  },
  {
   "cell_type": "code",
   "execution_count": 4,
   "metadata": {},
   "outputs": [
    {
     "name": "stdout",
     "output_type": "stream",
     "text": [
      "Requirement already satisfied: matplotlib in c:\\users\\alwx\\desktop\\pythonprojects\\homework_2_1\\.venv\\lib\\site-packages (3.10.0)\n",
      "Requirement already satisfied: contourpy>=1.0.1 in c:\\users\\alwx\\desktop\\pythonprojects\\homework_2_1\\.venv\\lib\\site-packages (from matplotlib) (1.3.1)\n",
      "Requirement already satisfied: cycler>=0.10 in c:\\users\\alwx\\desktop\\pythonprojects\\homework_2_1\\.venv\\lib\\site-packages (from matplotlib) (0.12.1)\n",
      "Requirement already satisfied: fonttools>=4.22.0 in c:\\users\\alwx\\desktop\\pythonprojects\\homework_2_1\\.venv\\lib\\site-packages (from matplotlib) (4.56.0)\n",
      "Requirement already satisfied: kiwisolver>=1.3.1 in c:\\users\\alwx\\desktop\\pythonprojects\\homework_2_1\\.venv\\lib\\site-packages (from matplotlib) (1.4.8)\n",
      "Requirement already satisfied: numpy>=1.23 in c:\\users\\alwx\\desktop\\pythonprojects\\homework_2_1\\.venv\\lib\\site-packages (from matplotlib) (1.26.4)\n",
      "Requirement already satisfied: packaging>=20.0 in c:\\users\\alwx\\desktop\\pythonprojects\\homework_2_1\\.venv\\lib\\site-packages (from matplotlib) (24.2)\n",
      "Requirement already satisfied: pillow>=8 in c:\\users\\alwx\\desktop\\pythonprojects\\homework_2_1\\.venv\\lib\\site-packages (from matplotlib) (11.1.0)\n",
      "Requirement already satisfied: pyparsing>=2.3.1 in c:\\users\\alwx\\desktop\\pythonprojects\\homework_2_1\\.venv\\lib\\site-packages (from matplotlib) (3.2.1)\n",
      "Requirement already satisfied: python-dateutil>=2.7 in c:\\users\\alwx\\desktop\\pythonprojects\\homework_2_1\\.venv\\lib\\site-packages (from matplotlib) (2.9.0.post0)\n",
      "Requirement already satisfied: six>=1.5 in c:\\users\\alwx\\desktop\\pythonprojects\\homework_2_1\\.venv\\lib\\site-packages (from python-dateutil>=2.7->matplotlib) (1.17.0)\n"
     ]
    }
   ],
   "source": [
    "!pip install matplotlib"
   ]
  },
  {
   "cell_type": "markdown",
   "metadata": {},
   "source": [
    "## Отображение чисел из датасета "
   ]
  },
  {
   "cell_type": "code",
   "execution_count": 5,
   "metadata": {},
   "outputs": [
    {
     "data": {
      "image/png": "[encoded data removed]",
      "text/plain": [
       "<Figure size 640x480 with 10 Axes>"
      ]
     },
     "metadata": {},
     "output_type": "display_data"
    }
   ],
   "source": [
    "import matplotlib.pyplot as plt\n",
    "\n",
    "fig, axs = plt.subplots(2,5)\n",
    "fig.suptitle('Numbers')\n",
    "\n",
    "\n",
    "def show_image(index:int, col:int, row:int):    \n",
    "    axs[col,row].set_title(train_label[index])\n",
    "    axs[col,row].imshow(train_image[index])\n",
    "    \n",
    "\n",
    "def show_image_of_digit(digit:int, col:int, row:int):\n",
    "    first_ind = np.where(train_label==digit)[0][0]\n",
    "    show_image(first_ind, col, row)\n",
    "\n",
    "show_image_of_digit(0,0,0)\n",
    "show_image_of_digit(1,0,1)\n",
    "show_image_of_digit(2,0,2)\n",
    "show_image_of_digit(3,0,3)\n",
    "show_image_of_digit(4,0,4)\n",
    "show_image_of_digit(5,1,0)\n",
    "show_image_of_digit(6,1,1)\n",
    "show_image_of_digit(7,1,2)\n",
    "show_image_of_digit(8,1,3)\n",
    "show_image_of_digit(9,1,4)\n",
    "\n"
   ]
  },
  {
   "cell_type": "code",
   "execution_count": 6,
   "metadata": {},
   "outputs": [],
   "source": [
    "train_image_flatten = [item.flatten() for item in train_image]\n",
    "test_image_flatten = [item.flatten() for item in test_image]\n",
    "\n",
    "X_train , Y_train = train_image_flatten, train_label\n",
    "x_test, y_test = test_image_flatten, test_label "
   ]
  },
  {
   "cell_type": "markdown",
   "metadata": {},
   "source": [
    "## Распределение записей по классам (цифрам)"
   ]
  },
  {
   "cell_type": "code",
   "execution_count": 7,
   "metadata": {},
   "outputs": [
    {
     "data": {
      "image/png": "[encoded data removed]",
      "text/plain": [
       "<Figure size 640x480 with 1 Axes>"
      ]
     },
     "metadata": {},
     "output_type": "display_data"
    }
   ],
   "source": [
    "\n",
    "def SamplesAmount(Y_train):\n",
    "    plt.title(\"Распределение записей по классам (цифрам)\")\n",
    "    counts, bins, patches = plt.hist([Y_train],label=['train'], color='skyblue', edgecolor='black')\n",
    "    plt.bar_label(patches, (0,1,2,3,4,5,6,7,8,9))\n",
    "    plt.legend()\n",
    "    plt.show()\n",
    "\n",
    "SamplesAmount(Y_train)"
   ]
  },
  {
   "cell_type": "code",
   "execution_count": 8,
   "metadata": {},
   "outputs": [
    {
     "data": {
      "image/png": "[encoded data removed]",
      "text/plain": [
       "<Figure size 640x480 with 1 Axes>"
      ]
     },
     "metadata": {},
     "output_type": "display_data"
    }
   ],
   "source": [
    "X_train_origin = X_train.copy()\n",
    "Y_train_origin = Y_train.copy()\n",
    "\n",
    "X_train = X_train[::20] #Беру только каждое 20 число \n",
    "Y_train = Y_train[::20]\n",
    "\n",
    "#Смотрю количество записей каждого класса\n",
    "SamplesAmount(Y_train)"
   ]
  },
  {
   "cell_type": "markdown",
   "metadata": {},
   "source": [
    "## Метод К-ближайших соседей"
   ]
  },
  {
   "cell_type": "code",
   "execution_count": 9,
   "metadata": {},
   "outputs": [
    {
     "name": "stdout",
     "output_type": "stream",
     "text": [
      "Requirement already satisfied: scikit-learn in c:\\users\\alwx\\desktop\\pythonprojects\\homework_2_1\\.venv\\lib\\site-packages (1.6.1)\n",
      "Requirement already satisfied: numpy>=1.19.5 in c:\\users\\alwx\\desktop\\pythonprojects\\homework_2_1\\.venv\\lib\\site-packages (from scikit-learn) (1.26.4)\n",
      "Requirement already satisfied: scipy>=1.6.0 in c:\\users\\alwx\\desktop\\pythonprojects\\homework_2_1\\.venv\\lib\\site-packages (from scikit-learn) (1.15.2)\n",
      "Requirement already satisfied: joblib>=1.2.0 in c:\\users\\alwx\\desktop\\pythonprojects\\homework_2_1\\.venv\\lib\\site-packages (from scikit-learn) (1.4.2)\n",
      "Requirement already satisfied: threadpoolctl>=3.1.0 in c:\\users\\alwx\\desktop\\pythonprojects\\homework_2_1\\.venv\\lib\\site-packages (from scikit-learn) (3.5.0)\n"
     ]
    }
   ],
   "source": [
    "!pip install scikit-learn"
   ]
  },
  {
   "cell_type": "code",
   "execution_count": 10,
   "metadata": {},
   "outputs": [
    {
     "name": "stdout",
     "output_type": "stream",
     "text": [
      "Метрики качества:\n",
      "              precision    recall  f1-score   support\n",
      "\n",
      "           0       0.92      0.98      0.95       980\n",
      "           1       0.89      1.00      0.94      1135\n",
      "           2       0.95      0.89      0.92      1032\n",
      "           3       0.92      0.93      0.92      1010\n",
      "           4       0.88      0.92      0.90       982\n",
      "           5       0.90      0.89      0.89       892\n",
      "           6       0.94      0.96      0.95       958\n",
      "           7       0.90      0.91      0.91      1028\n",
      "           8       0.97      0.82      0.89       974\n",
      "           9       0.90      0.84      0.87      1009\n",
      "\n",
      "    accuracy                           0.92     10000\n",
      "   macro avg       0.92      0.91      0.91     10000\n",
      "weighted avg       0.92      0.92      0.91     10000\n",
      "\n",
      "Матрица ошибок:\n",
      "[[ 960    2    3    0    1    4    8    2    0    0]\n",
      " [   0 1130    4    1    0    0    0    0    0    0]\n",
      " [  28   24  923    9    8    1    1   27    7    4]\n",
      " [   1    7   15  938    1   23    0    6   14    5]\n",
      " [   0   21    0    0  902    0    7    9    1   42]\n",
      " [   9   15    2   32    9  791   23    1    1    9]\n",
      " [  17    7    0    1    7    3  923    0    0    0]\n",
      " [   3   42    7    3   12    0    0  939    1   21]\n",
      " [  13   13   18   30   13   51   14   12  799   11]\n",
      " [  14   11    2   11   68    5    2   48    2  846]]\n",
      "Точность модели: 0.9151\n"
     ]
    }
   ],
   "source": [
    "from sklearn.neighbors import KNeighborsClassifier\n",
    "from sklearn.preprocessing import normalize  \n",
    "from sklearn.metrics import classification_report, confusion_matrix, accuracy_score \n",
    "\n",
    "def KNeib(X_tr,Y_tr,X_ts, Y_ts, n_neib=3, show_output=True):\n",
    "    \n",
    "    clsf = KNeighborsClassifier(n_neib)\n",
    "    clsf.fit(X_tr, Y_tr)\n",
    "    y_pred = clsf.predict(X_ts)\n",
    "\n",
    "    conf_matrix = confusion_matrix(Y_ts, y_pred)\n",
    "\n",
    "    accuracy = accuracy_score(Y_ts, y_pred)\n",
    "\n",
    "    if show_output:\n",
    "        print(\"Метрики качества:\")\n",
    "        print(classification_report(Y_ts, y_pred))\n",
    "\n",
    "        print(\"Матрица ошибок:\")\n",
    "        print(conf_matrix)\n",
    "        \n",
    "        print(f\"Точность модели: {accuracy}\")\n",
    "    return accuracy\n",
    "\n",
    "\n",
    "kNeib_result = KNeib(X_train, Y_train, x_test, y_test)\n"
   ]
  },
  {
   "cell_type": "markdown",
   "metadata": {},
   "source": [
    "## Ищу лучшее n"
   ]
  },
  {
   "cell_type": "code",
   "execution_count": 11,
   "metadata": {},
   "outputs": [],
   "source": [
    "\n",
    "neibs_amount = (1,2,3,5,7,10,20, 40, 50, 100)\n",
    "accur = []\n",
    "\n",
    "for i in neibs_amount:\n",
    "    accur.append(KNeib(X_train, Y_train, x_test, y_test, i, False))\n",
    "\n"
   ]
  },
  {
   "cell_type": "code",
   "execution_count": 12,
   "metadata": {},
   "outputs": [
    {
     "data": {
      "image/png": "[encoded data removed]",
      "text/plain": [
       "<Figure size 640x480 with 1 Axes>"
      ]
     },
     "metadata": {},
     "output_type": "display_data"
    }
   ],
   "source": [
    "plt.plot(neibs_amount,accur)\n",
    "plt.ylabel(\"точность модели\")\n",
    "plt.xlabel(\"количество ближайших соседей\")\n",
    "plt.xticks(neibs_amount)\n",
    "plt.show()"
   ]
  },
  {
   "cell_type": "markdown",
   "metadata": {},
   "source": [
    "## L1-регуляризация + K-ближайших соседей"
   ]
  },
  {
   "cell_type": "code",
   "execution_count": 13,
   "metadata": {},
   "outputs": [
    {
     "name": "stdout",
     "output_type": "stream",
     "text": [
      "Метрики качества:\n",
      "              precision    recall  f1-score   support\n",
      "\n",
      "           0       0.86      0.99      0.92       980\n",
      "           1       0.96      0.98      0.97      1135\n",
      "           2       0.94      0.91      0.93      1032\n",
      "           3       0.92      0.90      0.91      1010\n",
      "           4       0.91      0.89      0.90       982\n",
      "           5       0.96      0.83      0.89       892\n",
      "           6       0.93      0.96      0.95       958\n",
      "           7       0.94      0.89      0.92      1028\n",
      "           8       0.87      0.93      0.90       974\n",
      "           9       0.87      0.85      0.86      1009\n",
      "\n",
      "    accuracy                           0.91     10000\n",
      "   macro avg       0.92      0.91      0.91     10000\n",
      "weighted avg       0.92      0.91      0.91     10000\n",
      "\n",
      "Матрица ошибок:\n",
      "[[ 971    0    2    0    0    0    4    0    2    1]\n",
      " [   0 1111    9    1    0    0    6    0    8    0]\n",
      " [  26    0  940    8   10    0    4   16   25    3]\n",
      " [  13    2   14  909    1   15    1    7   42    6]\n",
      " [  11    6    1    0  870    2   15    4   11   62]\n",
      " [  31    4    4   48    3  742   27    1   26    6]\n",
      " [  30    2    0    0    2    3  920    0    1    0]\n",
      " [   9   14   20    3   11    0    0  916    6   49]\n",
      " [  14    5    6   16    1    8    7    5  907    5]\n",
      " [  30    9    1    7   60    5    1   21   19  856]]\n",
      "Точность модели: 0.9142\n"
     ]
    }
   ],
   "source": [
    "X_train_regul = normalize(X_train, norm='l1')\n",
    "X_test_regul = normalize(x_test, norm='l1')\n",
    "\n",
    "l1_result = KNeib(X_train_regul, Y_train, X_test_regul, y_test)"
   ]
  },
  {
   "cell_type": "markdown",
   "metadata": {},
   "source": [
    "## L2-регуляризация + K-ближайших соседей"
   ]
  },
  {
   "cell_type": "code",
   "execution_count": 14,
   "metadata": {},
   "outputs": [
    {
     "name": "stdout",
     "output_type": "stream",
     "text": [
      "Метрики качества:\n",
      "              precision    recall  f1-score   support\n",
      "\n",
      "           0       0.91      0.99      0.95       980\n",
      "           1       0.94      0.99      0.96      1135\n",
      "           2       0.95      0.93      0.94      1032\n",
      "           3       0.93      0.93      0.93      1010\n",
      "           4       0.92      0.92      0.92       982\n",
      "           5       0.95      0.88      0.92       892\n",
      "           6       0.94      0.97      0.96       958\n",
      "           7       0.93      0.92      0.92      1028\n",
      "           8       0.94      0.90      0.92       974\n",
      "           9       0.90      0.87      0.88      1009\n",
      "\n",
      "    accuracy                           0.93     10000\n",
      "   macro avg       0.93      0.93      0.93     10000\n",
      "weighted avg       0.93      0.93      0.93     10000\n",
      "\n",
      "Матрица ошибок:\n",
      "[[ 968    2    3    0    0    0    6    1    0    0]\n",
      " [   0 1122    8    1    0    0    2    0    2    0]\n",
      " [  22    4  955    7    8    0    2   20   13    1]\n",
      " [   5    1   10  937    0   15    1    7   28    6]\n",
      " [   5   14    1    0  900    0   10    3    2   47]\n",
      " [  14    6    3   35    7  784   28    1    7    7]\n",
      " [  18    3    1    0    1    3  932    0    0    0]\n",
      " [   3   29   14    0    7    0    0  941    2   32]\n",
      " [   8    6   11   22    6   15   10   10  877    9]\n",
      " [  20   11    1    9   52    4    1   30    3  878]]\n",
      "Точность модели: 0.9294\n"
     ]
    }
   ],
   "source": [
    "X_train_regul = normalize(X_train, norm='l2')\n",
    "X_test_regul = normalize(x_test, norm='l2')\n",
    "\n",
    "l2_result = KNeib(X_train_regul, Y_train, X_test_regul, y_test)"
   ]
  },
  {
   "cell_type": "markdown",
   "metadata": {},
   "source": [
    "## Избавляюсь от дизбаланса классов. Удаляю данные из оверсемплированых данных "
   ]
  },
  {
   "cell_type": "code",
   "execution_count": 15,
   "metadata": {},
   "outputs": [
    {
     "name": "stdout",
     "output_type": "stream",
     "text": [
      "Requirement already satisfied: imblearn in c:\\users\\alwx\\desktop\\pythonprojects\\homework_2_1\\.venv\\lib\\site-packages (0.0)\n",
      "Requirement already satisfied: imbalanced-learn in c:\\users\\alwx\\desktop\\pythonprojects\\homework_2_1\\.venv\\lib\\site-packages (from imblearn) (0.13.0)\n",
      "Requirement already satisfied: numpy<3,>=1.24.3 in c:\\users\\alwx\\desktop\\pythonprojects\\homework_2_1\\.venv\\lib\\site-packages (from imbalanced-learn->imblearn) (1.26.4)\n",
      "Requirement already satisfied: scipy<2,>=1.10.1 in c:\\users\\alwx\\desktop\\pythonprojects\\homework_2_1\\.venv\\lib\\site-packages (from imbalanced-learn->imblearn) (1.15.2)\n",
      "Requirement already satisfied: scikit-learn<2,>=1.3.2 in c:\\users\\alwx\\desktop\\pythonprojects\\homework_2_1\\.venv\\lib\\site-packages (from imbalanced-learn->imblearn) (1.6.1)\n",
      "Requirement already satisfied: sklearn-compat<1,>=0.1 in c:\\users\\alwx\\desktop\\pythonprojects\\homework_2_1\\.venv\\lib\\site-packages (from imbalanced-learn->imblearn) (0.1.3)\n",
      "Requirement already satisfied: joblib<2,>=1.1.1 in c:\\users\\alwx\\desktop\\pythonprojects\\homework_2_1\\.venv\\lib\\site-packages (from imbalanced-learn->imblearn) (1.4.2)\n",
      "Requirement already satisfied: threadpoolctl<4,>=2.0.0 in c:\\users\\alwx\\desktop\\pythonprojects\\homework_2_1\\.venv\\lib\\site-packages (from imbalanced-learn->imblearn) (3.5.0)\n"
     ]
    }
   ],
   "source": [
    "!pip install imblearn"
   ]
  },
  {
   "cell_type": "code",
   "execution_count": 16,
   "metadata": {},
   "outputs": [
    {
     "name": "stdout",
     "output_type": "stream",
     "text": [
      "Метрики качества:\n",
      "              precision    recall  f1-score   support\n",
      "\n",
      "           0       0.91      0.99      0.95       980\n",
      "           1       0.94      0.99      0.96      1135\n",
      "           2       0.95      0.93      0.94      1032\n",
      "           3       0.94      0.91      0.93      1010\n",
      "           4       0.92      0.92      0.92       982\n",
      "           5       0.95      0.89      0.92       892\n",
      "           6       0.94      0.97      0.96       958\n",
      "           7       0.93      0.92      0.92      1028\n",
      "           8       0.93      0.90      0.92       974\n",
      "           9       0.90      0.87      0.88      1009\n",
      "\n",
      "    accuracy                           0.93     10000\n",
      "   macro avg       0.93      0.93      0.93     10000\n",
      "weighted avg       0.93      0.93      0.93     10000\n",
      "\n",
      "Матрица ошибок:\n",
      "[[ 968    2    3    0    0    0    6    1    0    0]\n",
      " [   0 1122    8    1    0    0    2    0    2    0]\n",
      " [  21    4  956    7    8    0    2   20   13    1]\n",
      " [   9    1   11  922    0   19    1    7   34    6]\n",
      " [   5   14    1    0  900    0   10    3    2   47]\n",
      " [  15    6    4   19    7  797   29    1    7    7]\n",
      " [  18    3    1    0    1    3  932    0    0    0]\n",
      " [   3   29   14    0    7    0    0  941    2   32]\n",
      " [   9    6   11   21    6   15   10   10  877    9]\n",
      " [  20   11    1    9   52    4    1   30    3  878]]\n",
      "Точность модели: 0.9293\n"
     ]
    }
   ],
   "source": [
    "from imblearn.under_sampling import RandomUnderSampler\n",
    "\n",
    "undersample = RandomUnderSampler(sampling_strategy='majority')\n",
    "\n",
    "X_over, y_over = undersample.fit_resample(X_train_regul, Y_train)\n",
    "\n",
    "undersample_l2_result = KNeib(X_over, y_over, X_test_regul, y_test)"
   ]
  },
  {
   "cell_type": "markdown",
   "metadata": {},
   "source": [
    "## Метод понижения размерности  -- РСА"
   ]
  },
  {
   "cell_type": "code",
   "execution_count": 17,
   "metadata": {},
   "outputs": [
    {
     "name": "stdout",
     "output_type": "stream",
     "text": [
      "Метрики качества:\n",
      "              precision    recall  f1-score   support\n",
      "\n",
      "           0       0.48      0.74      0.58       980\n",
      "           1       0.81      0.94      0.87      1135\n",
      "           2       0.21      0.31      0.25      1032\n",
      "           3       0.36      0.45      0.40      1010\n",
      "           4       0.35      0.44      0.39       982\n",
      "           5       0.18      0.14      0.16       892\n",
      "           6       0.31      0.18      0.23       958\n",
      "           7       0.44      0.44      0.44      1028\n",
      "           8       0.25      0.10      0.14       974\n",
      "           9       0.33      0.17      0.23      1009\n",
      "\n",
      "    accuracy                           0.40     10000\n",
      "   macro avg       0.37      0.39      0.37     10000\n",
      "weighted avg       0.38      0.40      0.38     10000\n",
      "\n",
      "Матрица ошибок:\n",
      "[[ 721    1   62   10    5   99   54    0   25    3]\n",
      " [   0 1062   21   21    5   10    4    4    4    4]\n",
      " [ 176   53  320  243   17   89   62    6   60    6]\n",
      " [  54   35  274  452   13   73   27   11   66    5]\n",
      " [  11   16   62   18  433   25   36  211    6  164]\n",
      " [ 132   34  205  177   47  124   73   17   76    7]\n",
      " [ 254   15  195   75   49  113  175    7   53   22]\n",
      " [   5   38   50   33  251   26   30  454    5  136]\n",
      " [ 129   37  290  195   38   93   79   10   97    6]\n",
      " [  23   18   46   17  373   23   30  302    1  176]]\n",
      "Точность модели: 0.4014\n"
     ]
    }
   ],
   "source": [
    "from sklearn.decomposition import PCA\n",
    "\n",
    "\n",
    "pca = PCA(n_components=2, random_state=42)\n",
    "X_train_pca = pca.fit_transform(X_train)\n",
    "x_test_pca = pca.fit_transform(x_test)\n",
    "\n",
    "pca_result = KNeib(X_train_pca, Y_train, x_test_pca, y_test)"
   ]
  },
  {
   "cell_type": "markdown",
   "metadata": {},
   "source": [
    "## Метод понижения размерности  -- TSNE"
   ]
  },
  {
   "cell_type": "code",
   "execution_count": 25,
   "metadata": {},
   "outputs": [
    {
     "name": "stdout",
     "output_type": "stream",
     "text": [
      "Метрики качества:\n",
      "              precision    recall  f1-score   support\n",
      "\n",
      "           0       0.85      0.78      0.81       980\n",
      "           1       0.77      0.70      0.73      1135\n",
      "           2       0.55      0.85      0.67      1032\n",
      "           3       0.73      0.82      0.77      1010\n",
      "           4       0.62      0.55      0.58       982\n",
      "           5       0.69      0.59      0.64       892\n",
      "           6       0.77      0.81      0.79       958\n",
      "           7       0.55      0.65      0.59      1028\n",
      "           8       0.80      0.58      0.67       974\n",
      "           9       0.37      0.27      0.31      1009\n",
      "\n",
      "    accuracy                           0.66     10000\n",
      "   macro avg       0.67      0.66      0.66     10000\n",
      "weighted avg       0.67      0.66      0.66     10000\n",
      "\n",
      "Матрица ошибок:\n",
      "[[760   1 189   0   1   3   5   0  14   7]\n",
      " [  0 799 249   2   0   0   1  71  13   0]\n",
      " [  9  76 882   7   7   4   2  15  29   1]\n",
      " [  1   4  71 829   1  78   2  12   6   6]\n",
      " [  0   6  27   9 544   5  13  52   1 325]\n",
      " [ 54   0  34  33   8 527 197   1  34   4]\n",
      " [ 64   2   3   0  25   0 777   0   1  86]\n",
      " [  0 121 106  37  13   5   0 668  33  45]\n",
      " [  2  26  37 208  10 111   5   9 565   1]\n",
      " [  8   6   4   9 269  31   1 396  11 274]]\n",
      "Точность модели: 0.6625\n"
     ]
    }
   ],
   "source": [
    "from sklearn.manifold import TSNE\n",
    "import numpy as np\n",
    "\n",
    "\n",
    "tsne = TSNE(n_components=2, random_state=42, perplexity=10)\n",
    "X_train_tsne = tsne.fit_transform(np.array(X_train))\n",
    "X_test_tsne = tsne.fit_transform(np.array(x_test))\n",
    "\n",
    "tsne_result = KNeib(X_train_tsne, Y_train, X_test_tsne, y_test)"
   ]
  },
  {
   "cell_type": "markdown",
   "metadata": {},
   "source": [
    "## Random forest classifier + L2 regularization + under sampling"
   ]
  },
  {
   "cell_type": "code",
   "execution_count": 26,
   "metadata": {},
   "outputs": [
    {
     "name": "stdout",
     "output_type": "stream",
     "text": [
      "              precision    recall  f1-score   support\n",
      "\n",
      "           0       0.94      0.98      0.96       980\n",
      "           1       0.97      0.95      0.96      1135\n",
      "           2       0.89      0.92      0.90      1032\n",
      "           3       0.97      0.88      0.92      1010\n",
      "           4       0.90      0.94      0.92       982\n",
      "           5       0.92      0.91      0.92       892\n",
      "           6       0.93      0.97      0.95       958\n",
      "           7       0.94      0.91      0.92      1028\n",
      "           8       0.87      0.92      0.90       974\n",
      "           9       0.91      0.87      0.89      1009\n",
      "\n",
      "    accuracy                           0.92     10000\n",
      "   macro avg       0.92      0.92      0.92     10000\n",
      "weighted avg       0.92      0.92      0.92     10000\n",
      "\n",
      "[[ 957    0    4    0    1    3    8    1    5    1]\n",
      " [   0 1073   33    2    1    1    6    0   18    1]\n",
      " [  17    1  948    5   19    1    6   17   15    3]\n",
      " [   5    0   34  884    0   30    5   19   29    4]\n",
      " [   1    7    2    0  920    0   12    2    6   32]\n",
      " [   7    4    7    8   13  810   23    1   15    4]\n",
      " [  17    3    1    0    6    3  928    0    0    0]\n",
      " [   2   13   28    1    6    0    0  934    9   35]\n",
      " [   4    1   13    8    8   17   13    7  898    5]\n",
      " [   6    7    0    7   53   12    1   16   32  875]]\n",
      "Точность модели: 0.9227\n"
     ]
    }
   ],
   "source": [
    "from sklearn.ensemble import RandomForestClassifier\n",
    "from sklearn.metrics import classification_report, confusion_matrix, accuracy_score \n",
    "\n",
    "clsf =  RandomForestClassifier(\n",
    "        max_depth=50, n_estimators=400, max_features=10, random_state=42)\n",
    "\n",
    "clsf.fit(X_over, y_over)\n",
    "\n",
    "y_pred = clsf.predict(X_test_regul)\n",
    "\n",
    "print(classification_report(y_test, y_pred))\n",
    "\n",
    "print(confusion_matrix(y_test, y_pred))\n",
    "\n",
    "accuracy = accuracy_score(y_test, y_pred)\n",
    "\n",
    "rfc_result = accuracy\n",
    "\n",
    "print(f\"Точность модели: {accuracy}\")"
   ]
  },
  {
   "cell_type": "markdown",
   "metadata": {},
   "source": [
    "## Gradient Boosting Classifier + L2 regularization + under sampling"
   ]
  },
  {
   "cell_type": "code",
   "execution_count": 27,
   "metadata": {},
   "outputs": [
    {
     "name": "stdout",
     "output_type": "stream",
     "text": [
      "              precision    recall  f1-score   support\n",
      "\n",
      "           0       0.94      0.96      0.95       980\n",
      "           1       0.94      0.89      0.91      1135\n",
      "           2       0.83      0.85      0.84      1032\n",
      "           3       0.90      0.84      0.87      1010\n",
      "           4       0.88      0.90      0.89       982\n",
      "           5       0.87      0.84      0.86       892\n",
      "           6       0.90      0.93      0.91       958\n",
      "           7       0.86      0.87      0.86      1028\n",
      "           8       0.82      0.89      0.85       974\n",
      "           9       0.83      0.81      0.82      1009\n",
      "\n",
      "    accuracy                           0.88     10000\n",
      "   macro avg       0.88      0.88      0.88     10000\n",
      "weighted avg       0.88      0.88      0.88     10000\n",
      "\n",
      "[[ 944    1    2    2    2    6   10    2   10    1]\n",
      " [   1 1006   88    5    2    3    8    2   20    0]\n",
      " [  25    3  878   22   23    4   22   20   27    8]\n",
      " [  10    3   32  852    1   32    5   18   46   11]\n",
      " [   0    9    7    2  881    2    9    5   21   46]\n",
      " [   8   10    6   21   13  753   22    8   38   13]\n",
      " [   9    4    8    4   13   19  891    3    7    0]\n",
      " [   2   13   23    9    7    5    2  890    4   73]\n",
      " [   3    7   11   16    8   19   26   10  864   10]\n",
      " [   6    9    2    9   51   22    0   73   19  818]]\n",
      "Точность модели: 0.8777\n"
     ]
    }
   ],
   "source": [
    "from sklearn.ensemble import GradientBoostingClassifier\n",
    "\n",
    "clsf = GradientBoostingClassifier()\n",
    "\n",
    "clsf.fit(X_over, y_over)\n",
    "\n",
    "y_pred = clsf.predict(X_test_regul)\n",
    "\n",
    "print(classification_report(y_test, y_pred))\n",
    "\n",
    "print(confusion_matrix(y_test, y_pred))\n",
    "\n",
    "accuracy = accuracy_score(y_test, y_pred)\n",
    "\n",
    "clsf_result = accuracy\n",
    "print(f\"Точность модели: {accuracy}\")"
   ]
  },
  {
   "cell_type": "markdown",
   "metadata": {},
   "source": [
    "## KNN с лучшими параметрами андерсемплированием и нормализацией l2"
   ]
  },
  {
   "cell_type": "code",
   "execution_count": 28,
   "metadata": {},
   "outputs": [
    {
     "name": "stdout",
     "output_type": "stream",
     "text": [
      "Метрики качества:\n",
      "              precision    recall  f1-score   support\n",
      "\n",
      "           0       0.96      0.99      0.98       980\n",
      "           1       0.98      1.00      0.99      1135\n",
      "           2       0.98      0.98      0.98      1032\n",
      "           3       0.98      0.97      0.97      1010\n",
      "           4       0.99      0.96      0.97       982\n",
      "           5       0.98      0.96      0.97       892\n",
      "           6       0.98      0.99      0.98       958\n",
      "           7       0.97      0.97      0.97      1028\n",
      "           8       0.97      0.96      0.97       974\n",
      "           9       0.95      0.96      0.95      1009\n",
      "\n",
      "    accuracy                           0.97     10000\n",
      "   macro avg       0.97      0.97      0.97     10000\n",
      "weighted avg       0.97      0.97      0.97     10000\n",
      "\n",
      "Матрица ошибок:\n",
      "[[ 975    1    0    0    0    0    3    1    0    0]\n",
      " [   0 1130    3    0    0    0    2    0    0    0]\n",
      " [  10    1 1007    1    1    0    0    8    4    0]\n",
      " [   3    1    3  975    1    9    0    6    9    3]\n",
      " [   3    2    0    0  943    0    6    1    2   25]\n",
      " [   6    0    0    7    1  860    7    2    6    3]\n",
      " [   4    2    0    0    2    2  948    0    0    0]\n",
      " [   2   11    6    0    0    0    0  993    0   16]\n",
      " [   6    3    3    9    3    5    4    3  934    4]\n",
      " [   9    6    2    6    4    3    1    7    4  967]]\n",
      "Точность модели: 0.9732\n"
     ]
    }
   ],
   "source": [
    "undersample = RandomUnderSampler(sampling_strategy='majority')\n",
    "\n",
    "X_origin_over, y_origin_over = undersample.fit_resample(X_train_origin, Y_train_origin)\n",
    "\n",
    "X_train_origin_regul = normalize(X_origin_over, norm='l2')\n",
    "X_test_regul = normalize(x_test, norm='l2')\n",
    "\n",
    "best_result = KNeib(X_train_origin_regul, y_origin_over, X_test_regul, y_test, 5)"
   ]
  },
  {
   "cell_type": "markdown",
   "metadata": {},
   "source": [
    "# Сравнение точности моделей"
   ]
  },
  {
   "cell_type": "code",
   "execution_count": 33,
   "metadata": {},
   "outputs": [
    {
     "data": {
      "image/png": "[encoded data removed]",
      "text/plain": [
       "<Figure size 640x480 with 1 Axes>"
      ]
     },
     "metadata": {},
     "output_type": "display_data"
    }
   ],
   "source": [
    "alg = (\"KNN\", \"L1\", \"L2\", \"Us+L2\", \"PCA\", \"TSNE\", \"RFC\", \"CLSF\", \"all data\")\n",
    "results = (kNeib_result, l1_result, l2_result, undersample_l2_result, pca_result, tsne_result, rfc_result, clsf_result, best_result)\n",
    "\n",
    "plt.bar(alg, results)\n",
    "plt.ylabel(\"точность модели\")\n",
    "plt.xlabel(\"модель\")\n",
    "plt.xticks(alg)\n",
    "plt.show()"
   ]
  },
  {
   "cell_type": "code",
   "execution_count": null,
   "metadata": {},
   "outputs": [],
   "source": []
  }
 ],
 "metadata": {
  "kernelspec": {
   "display_name": ".venv",
   "language": "python",
   "name": "python3"
  },
  "language_info": {
   "codemirror_mode": {
    "name": "ipython",
    "version": 3
   },
   "file_extension": ".py",
   "mimetype": "text/x-python",
   "name": "python",
   "nbconvert_exporter": "python",
   "pygments_lexer": "ipython3",
   "version": "3.10.0"
  }
 },
 "nbformat": 4,
 "nbformat_minor": 2
}
